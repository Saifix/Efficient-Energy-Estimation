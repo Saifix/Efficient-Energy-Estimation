{
 "cells": [
  {
   "cell_type": "code",
   "execution_count": 1,
   "metadata": {},
   "outputs": [],
   "source": [
    "import numpy as np\n",
    "import pandas as pd\n",
    "import opendatasets as od\n",
    "import matplotlib.pyplot as plt"
   ]
  },
  {
   "cell_type": "code",
   "execution_count": 2,
   "metadata": {},
   "outputs": [
    {
     "name": "stdout",
     "output_type": "stream",
     "text": [
      "Please provide your Kaggle credentials to download this dataset. Learn more: http://bit.ly/kaggle-creds\n",
      "Your Kaggle username:Your Kaggle Key:Downloading global-powerplants.zip to .\\global-powerplants\n"
     ]
    },
    {
     "name": "stderr",
     "output_type": "stream",
     "text": [
      "100%|██████████| 945k/945k [00:01<00:00, 667kB/s]"
     ]
    },
    {
     "name": "stdout",
     "output_type": "stream",
     "text": [
      "\n"
     ]
    },
    {
     "name": "stderr",
     "output_type": "stream",
     "text": [
      "\n"
     ]
    }
   ],
   "source": [
    "od.download(\n",
    "    'https://www.kaggle.com/datasets/ramjasmaurya/global-powerplants')"
   ]
  },
  {
   "cell_type": "code",
   "execution_count": 3,
   "metadata": {},
   "outputs": [
    {
     "data": {
      "text/html": [
       "<div>\n",
       "<style scoped>\n",
       "    .dataframe tbody tr th:only-of-type {\n",
       "        vertical-align: middle;\n",
       "    }\n",
       "\n",
       "    .dataframe tbody tr th {\n",
       "        vertical-align: top;\n",
       "    }\n",
       "\n",
       "    .dataframe thead th {\n",
       "        text-align: right;\n",
       "    }\n",
       "</style>\n",
       "<table border=\"1\" class=\"dataframe\">\n",
       "  <thead>\n",
       "    <tr style=\"text-align: right;\">\n",
       "      <th></th>\n",
       "      <th>country code</th>\n",
       "      <th>country_long</th>\n",
       "      <th>name of powerplant</th>\n",
       "      <th>capacity in MW</th>\n",
       "      <th>latitude</th>\n",
       "      <th>longitude</th>\n",
       "      <th>primary_fuel</th>\n",
       "      <th>secondary fuel</th>\n",
       "      <th>other_fuel2</th>\n",
       "      <th>other_fuel3</th>\n",
       "      <th>start date</th>\n",
       "      <th>owner of plant</th>\n",
       "      <th>generation_gwh_2021</th>\n",
       "      <th>geolocation_source</th>\n",
       "      <th>estimated_generation_gwh_2021</th>\n",
       "    </tr>\n",
       "  </thead>\n",
       "  <tbody>\n",
       "    <tr>\n",
       "      <th>0</th>\n",
       "      <td>AFG</td>\n",
       "      <td>Afghanistan</td>\n",
       "      <td>Kajaki Hydroelectric Power Plant Afghanistan</td>\n",
       "      <td>33.0</td>\n",
       "      <td>32.322</td>\n",
       "      <td>65.1190</td>\n",
       "      <td>Hydro</td>\n",
       "      <td>NaN</td>\n",
       "      <td>NaN</td>\n",
       "      <td>NaN</td>\n",
       "      <td>NaN</td>\n",
       "      <td>NaN</td>\n",
       "      <td>NaN</td>\n",
       "      <td>GEODB</td>\n",
       "      <td>123.77</td>\n",
       "    </tr>\n",
       "    <tr>\n",
       "      <th>1</th>\n",
       "      <td>AFG</td>\n",
       "      <td>Afghanistan</td>\n",
       "      <td>Kandahar DOG</td>\n",
       "      <td>10.0</td>\n",
       "      <td>31.670</td>\n",
       "      <td>65.7950</td>\n",
       "      <td>Solar</td>\n",
       "      <td>NaN</td>\n",
       "      <td>NaN</td>\n",
       "      <td>NaN</td>\n",
       "      <td>NaN</td>\n",
       "      <td>NaN</td>\n",
       "      <td>NaN</td>\n",
       "      <td>Wiki-Solar</td>\n",
       "      <td>18.43</td>\n",
       "    </tr>\n",
       "    <tr>\n",
       "      <th>2</th>\n",
       "      <td>AFG</td>\n",
       "      <td>Afghanistan</td>\n",
       "      <td>Kandahar JOL</td>\n",
       "      <td>10.0</td>\n",
       "      <td>31.623</td>\n",
       "      <td>65.7920</td>\n",
       "      <td>Solar</td>\n",
       "      <td>NaN</td>\n",
       "      <td>NaN</td>\n",
       "      <td>NaN</td>\n",
       "      <td>NaN</td>\n",
       "      <td>NaN</td>\n",
       "      <td>NaN</td>\n",
       "      <td>Wiki-Solar</td>\n",
       "      <td>18.64</td>\n",
       "    </tr>\n",
       "    <tr>\n",
       "      <th>3</th>\n",
       "      <td>AFG</td>\n",
       "      <td>Afghanistan</td>\n",
       "      <td>Mahipar Hydroelectric Power Plant Afghanistan</td>\n",
       "      <td>66.0</td>\n",
       "      <td>34.556</td>\n",
       "      <td>69.4787</td>\n",
       "      <td>Hydro</td>\n",
       "      <td>NaN</td>\n",
       "      <td>NaN</td>\n",
       "      <td>NaN</td>\n",
       "      <td>NaN</td>\n",
       "      <td>NaN</td>\n",
       "      <td>NaN</td>\n",
       "      <td>GEODB</td>\n",
       "      <td>225.06</td>\n",
       "    </tr>\n",
       "    <tr>\n",
       "      <th>4</th>\n",
       "      <td>AFG</td>\n",
       "      <td>Afghanistan</td>\n",
       "      <td>Naghlu Dam Hydroelectric Power Plant Afghanistan</td>\n",
       "      <td>100.0</td>\n",
       "      <td>34.641</td>\n",
       "      <td>69.7170</td>\n",
       "      <td>Hydro</td>\n",
       "      <td>NaN</td>\n",
       "      <td>NaN</td>\n",
       "      <td>NaN</td>\n",
       "      <td>NaN</td>\n",
       "      <td>NaN</td>\n",
       "      <td>NaN</td>\n",
       "      <td>GEODB</td>\n",
       "      <td>406.16</td>\n",
       "    </tr>\n",
       "  </tbody>\n",
       "</table>\n",
       "</div>"
      ],
      "text/plain": [
       "  country code country_long                                name of powerplant  \\\n",
       "0          AFG  Afghanistan      Kajaki Hydroelectric Power Plant Afghanistan   \n",
       "1          AFG  Afghanistan                                      Kandahar DOG   \n",
       "2          AFG  Afghanistan                                      Kandahar JOL   \n",
       "3          AFG  Afghanistan     Mahipar Hydroelectric Power Plant Afghanistan   \n",
       "4          AFG  Afghanistan  Naghlu Dam Hydroelectric Power Plant Afghanistan   \n",
       "\n",
       "   capacity in MW  latitude  longitude primary_fuel secondary fuel  \\\n",
       "0            33.0    32.322    65.1190        Hydro            NaN   \n",
       "1            10.0    31.670    65.7950        Solar            NaN   \n",
       "2            10.0    31.623    65.7920        Solar            NaN   \n",
       "3            66.0    34.556    69.4787        Hydro            NaN   \n",
       "4           100.0    34.641    69.7170        Hydro            NaN   \n",
       "\n",
       "  other_fuel2 other_fuel3  start date owner of plant  generation_gwh_2021  \\\n",
       "0         NaN         NaN         NaN            NaN                  NaN   \n",
       "1         NaN         NaN         NaN            NaN                  NaN   \n",
       "2         NaN         NaN         NaN            NaN                  NaN   \n",
       "3         NaN         NaN         NaN            NaN                  NaN   \n",
       "4         NaN         NaN         NaN            NaN                  NaN   \n",
       "\n",
       "  geolocation_source  estimated_generation_gwh_2021  \n",
       "0              GEODB                         123.77  \n",
       "1         Wiki-Solar                          18.43  \n",
       "2         Wiki-Solar                          18.64  \n",
       "3              GEODB                         225.06  \n",
       "4              GEODB                         406.16  "
      ]
     },
     "execution_count": 3,
     "metadata": {},
     "output_type": "execute_result"
    }
   ],
   "source": [
    "dataset = pd.read_csv(\"global-powerplants\\\\powerplants (global) - global_power_plants.csv\")\n",
    "dataset.head()"
   ]
  }
 ],
 "metadata": {
  "kernelspec": {
   "display_name": "base",
   "language": "python",
   "name": "python3"
  },
  "language_info": {
   "codemirror_mode": {
    "name": "ipython",
    "version": 3
   },
   "file_extension": ".py",
   "mimetype": "text/x-python",
   "name": "python",
   "nbconvert_exporter": "python",
   "pygments_lexer": "ipython3",
   "version": "3.10.10"
  }
 },
 "nbformat": 4,
 "nbformat_minor": 2
}
